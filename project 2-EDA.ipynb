{
 "cells": [
  {
   "cell_type": "code",
   "execution_count": 1,
   "id": "e6ef2fbe",
   "metadata": {},
   "outputs": [],
   "source": [
    "import numpy as np\n",
    "import pandas as pd\n",
    "\n",
    "import matplotlib.pyplot as plt\n",
    "import seaborn as sns\n",
    "%matplotlib inline\n"
   ]
  },
  {
   "cell_type": "code",
   "execution_count": 2,
   "id": "a00ee02f",
   "metadata": {},
   "outputs": [],
   "source": [
    "data_df = pd.read_csv(r'C:\\Users\\dgarb\\OneDrive\\Documents\\APZIVA\\Project 2\\data\\term-deposit-marketing-2020.csv')"
   ]
  },
  {
   "cell_type": "code",
   "execution_count": 3,
   "id": "a669e792",
   "metadata": {},
   "outputs": [
    {
     "data": {
      "text/plain": [
       "age           int64\n",
       "job          object\n",
       "marital      object\n",
       "education    object\n",
       "default      object\n",
       "balance       int64\n",
       "housing      object\n",
       "loan         object\n",
       "contact      object\n",
       "day           int64\n",
       "month        object\n",
       "duration      int64\n",
       "campaign      int64\n",
       "y            object\n",
       "dtype: object"
      ]
     },
     "execution_count": 3,
     "metadata": {},
     "output_type": "execute_result"
    }
   ],
   "source": [
    "data_df.dtypes"
   ]
  },
  {
   "cell_type": "code",
   "execution_count": 4,
   "id": "83dd5b25",
   "metadata": {},
   "outputs": [],
   "source": [
    "features = [ 'job',  'marital', 'education', 'default', 'housing', 'loan', 'contact',  'month', 'y']"
   ]
  },
  {
   "cell_type": "code",
   "execution_count": 5,
   "id": "6bd5d8c5",
   "metadata": {},
   "outputs": [
    {
     "data": {
      "text/plain": [
       "dtype('int64')"
      ]
     },
     "execution_count": 5,
     "metadata": {},
     "output_type": "execute_result"
    }
   ],
   "source": [
    "data_df.age.dtypes"
   ]
  },
  {
   "cell_type": "code",
   "execution_count": 6,
   "id": "29a3295c",
   "metadata": {},
   "outputs": [
    {
     "data": {
      "text/plain": [
       "['age',\n",
       " 'job',\n",
       " 'marital',\n",
       " 'education',\n",
       " 'default',\n",
       " 'balance',\n",
       " 'housing',\n",
       " 'loan',\n",
       " 'contact',\n",
       " 'day',\n",
       " 'month',\n",
       " 'duration',\n",
       " 'campaign',\n",
       " 'y']"
      ]
     },
     "execution_count": 6,
     "metadata": {},
     "output_type": "execute_result"
    }
   ],
   "source": [
    "list(data_df.columns)"
   ]
  },
  {
   "cell_type": "code",
   "execution_count": 4,
   "id": "d8214e94",
   "metadata": {},
   "outputs": [],
   "source": [
    "# LL =[]\n",
    "# char_features = []\n",
    "# for feat in list(data_df.columns):\n",
    "#     el = data_df[feat].dtypes\n",
    "#     LL.append(el)\n",
    "# LL"
   ]
  },
  {
   "cell_type": "code",
   "execution_count": 8,
   "id": "5f45803c",
   "metadata": {},
   "outputs": [
    {
     "name": "stdout",
     "output_type": "stream",
     "text": [
      "<class 'pandas.core.frame.DataFrame'>\n",
      "RangeIndex: 40000 entries, 0 to 39999\n",
      "Data columns (total 14 columns):\n",
      " #   Column     Non-Null Count  Dtype \n",
      "---  ------     --------------  ----- \n",
      " 0   age        40000 non-null  int64 \n",
      " 1   job        40000 non-null  object\n",
      " 2   marital    40000 non-null  object\n",
      " 3   education  40000 non-null  object\n",
      " 4   default    40000 non-null  object\n",
      " 5   balance    40000 non-null  int64 \n",
      " 6   housing    40000 non-null  object\n",
      " 7   loan       40000 non-null  object\n",
      " 8   contact    40000 non-null  object\n",
      " 9   day        40000 non-null  int64 \n",
      " 10  month      40000 non-null  object\n",
      " 11  duration   40000 non-null  int64 \n",
      " 12  campaign   40000 non-null  int64 \n",
      " 13  y          40000 non-null  object\n",
      "dtypes: int64(5), object(9)\n",
      "memory usage: 4.3+ MB\n"
     ]
    }
   ],
   "source": [
    "data_df.info()"
   ]
  },
  {
   "cell_type": "code",
   "execution_count": 9,
   "id": "addd91f0",
   "metadata": {},
   "outputs": [
    {
     "data": {
      "text/plain": [
       "(40000, 14)"
      ]
     },
     "execution_count": 9,
     "metadata": {},
     "output_type": "execute_result"
    }
   ],
   "source": [
    "data_df.shape"
   ]
  },
  {
   "cell_type": "code",
   "execution_count": 10,
   "id": "85a2a5fe",
   "metadata": {},
   "outputs": [
    {
     "data": {
      "text/html": [
       "<div>\n",
       "<style scoped>\n",
       "    .dataframe tbody tr th:only-of-type {\n",
       "        vertical-align: middle;\n",
       "    }\n",
       "\n",
       "    .dataframe tbody tr th {\n",
       "        vertical-align: top;\n",
       "    }\n",
       "\n",
       "    .dataframe thead th {\n",
       "        text-align: right;\n",
       "    }\n",
       "</style>\n",
       "<table border=\"1\" class=\"dataframe\">\n",
       "  <thead>\n",
       "    <tr style=\"text-align: right;\">\n",
       "      <th></th>\n",
       "      <th>age</th>\n",
       "      <th>job</th>\n",
       "      <th>marital</th>\n",
       "      <th>education</th>\n",
       "      <th>default</th>\n",
       "      <th>balance</th>\n",
       "      <th>housing</th>\n",
       "      <th>loan</th>\n",
       "      <th>contact</th>\n",
       "      <th>day</th>\n",
       "      <th>month</th>\n",
       "      <th>duration</th>\n",
       "      <th>campaign</th>\n",
       "      <th>y</th>\n",
       "    </tr>\n",
       "  </thead>\n",
       "  <tbody>\n",
       "    <tr>\n",
       "      <th>0</th>\n",
       "      <td>58</td>\n",
       "      <td>management</td>\n",
       "      <td>married</td>\n",
       "      <td>tertiary</td>\n",
       "      <td>no</td>\n",
       "      <td>2143</td>\n",
       "      <td>yes</td>\n",
       "      <td>no</td>\n",
       "      <td>unknown</td>\n",
       "      <td>5</td>\n",
       "      <td>may</td>\n",
       "      <td>261</td>\n",
       "      <td>1</td>\n",
       "      <td>no</td>\n",
       "    </tr>\n",
       "    <tr>\n",
       "      <th>1</th>\n",
       "      <td>44</td>\n",
       "      <td>technician</td>\n",
       "      <td>single</td>\n",
       "      <td>secondary</td>\n",
       "      <td>no</td>\n",
       "      <td>29</td>\n",
       "      <td>yes</td>\n",
       "      <td>no</td>\n",
       "      <td>unknown</td>\n",
       "      <td>5</td>\n",
       "      <td>may</td>\n",
       "      <td>151</td>\n",
       "      <td>1</td>\n",
       "      <td>no</td>\n",
       "    </tr>\n",
       "    <tr>\n",
       "      <th>2</th>\n",
       "      <td>33</td>\n",
       "      <td>entrepreneur</td>\n",
       "      <td>married</td>\n",
       "      <td>secondary</td>\n",
       "      <td>no</td>\n",
       "      <td>2</td>\n",
       "      <td>yes</td>\n",
       "      <td>yes</td>\n",
       "      <td>unknown</td>\n",
       "      <td>5</td>\n",
       "      <td>may</td>\n",
       "      <td>76</td>\n",
       "      <td>1</td>\n",
       "      <td>no</td>\n",
       "    </tr>\n",
       "    <tr>\n",
       "      <th>3</th>\n",
       "      <td>47</td>\n",
       "      <td>blue-collar</td>\n",
       "      <td>married</td>\n",
       "      <td>unknown</td>\n",
       "      <td>no</td>\n",
       "      <td>1506</td>\n",
       "      <td>yes</td>\n",
       "      <td>no</td>\n",
       "      <td>unknown</td>\n",
       "      <td>5</td>\n",
       "      <td>may</td>\n",
       "      <td>92</td>\n",
       "      <td>1</td>\n",
       "      <td>no</td>\n",
       "    </tr>\n",
       "    <tr>\n",
       "      <th>4</th>\n",
       "      <td>33</td>\n",
       "      <td>unknown</td>\n",
       "      <td>single</td>\n",
       "      <td>unknown</td>\n",
       "      <td>no</td>\n",
       "      <td>1</td>\n",
       "      <td>no</td>\n",
       "      <td>no</td>\n",
       "      <td>unknown</td>\n",
       "      <td>5</td>\n",
       "      <td>may</td>\n",
       "      <td>198</td>\n",
       "      <td>1</td>\n",
       "      <td>no</td>\n",
       "    </tr>\n",
       "  </tbody>\n",
       "</table>\n",
       "</div>"
      ],
      "text/plain": [
       "   age           job  marital  education default  balance housing loan  \\\n",
       "0   58    management  married   tertiary      no     2143     yes   no   \n",
       "1   44    technician   single  secondary      no       29     yes   no   \n",
       "2   33  entrepreneur  married  secondary      no        2     yes  yes   \n",
       "3   47   blue-collar  married    unknown      no     1506     yes   no   \n",
       "4   33       unknown   single    unknown      no        1      no   no   \n",
       "\n",
       "   contact  day month  duration  campaign   y  \n",
       "0  unknown    5   may       261         1  no  \n",
       "1  unknown    5   may       151         1  no  \n",
       "2  unknown    5   may        76         1  no  \n",
       "3  unknown    5   may        92         1  no  \n",
       "4  unknown    5   may       198         1  no  "
      ]
     },
     "execution_count": 10,
     "metadata": {},
     "output_type": "execute_result"
    }
   ],
   "source": [
    "data_df.head()"
   ]
  },
  {
   "cell_type": "code",
   "execution_count": 24,
   "id": "bc7ed924",
   "metadata": {},
   "outputs": [
    {
     "data": {
      "text/plain": [
       "y_label    2896\n",
       "dtype: int64"
      ]
     },
     "execution_count": 24,
     "metadata": {},
     "output_type": "execute_result"
    }
   ],
   "source": [
    "data_df['y_label'] = data_df.y == 'yes'\n",
    "\n",
    "data_df['y_label'].to_frame().head()\n",
    "data_df['y_label'].to_frame().sum()"
   ]
  },
  {
   "cell_type": "code",
   "execution_count": 25,
   "id": "d9a6fc37",
   "metadata": {},
   "outputs": [
    {
     "data": {
      "text/html": [
       "<div>\n",
       "<style scoped>\n",
       "    .dataframe tbody tr th:only-of-type {\n",
       "        vertical-align: middle;\n",
       "    }\n",
       "\n",
       "    .dataframe tbody tr th {\n",
       "        vertical-align: top;\n",
       "    }\n",
       "\n",
       "    .dataframe thead th {\n",
       "        text-align: right;\n",
       "    }\n",
       "</style>\n",
       "<table border=\"1\" class=\"dataframe\">\n",
       "  <thead>\n",
       "    <tr style=\"text-align: right;\">\n",
       "      <th></th>\n",
       "      <th>age</th>\n",
       "      <th>balance</th>\n",
       "      <th>day</th>\n",
       "      <th>duration</th>\n",
       "      <th>campaign</th>\n",
       "    </tr>\n",
       "  </thead>\n",
       "  <tbody>\n",
       "    <tr>\n",
       "      <th>count</th>\n",
       "      <td>40000.000000</td>\n",
       "      <td>40000.000000</td>\n",
       "      <td>40000.000000</td>\n",
       "      <td>40000.000000</td>\n",
       "      <td>40000.000000</td>\n",
       "    </tr>\n",
       "    <tr>\n",
       "      <th>mean</th>\n",
       "      <td>40.544600</td>\n",
       "      <td>1274.277550</td>\n",
       "      <td>16.017225</td>\n",
       "      <td>254.824300</td>\n",
       "      <td>2.882175</td>\n",
       "    </tr>\n",
       "    <tr>\n",
       "      <th>std</th>\n",
       "      <td>9.641776</td>\n",
       "      <td>2903.769716</td>\n",
       "      <td>8.278127</td>\n",
       "      <td>259.366498</td>\n",
       "      <td>3.239051</td>\n",
       "    </tr>\n",
       "    <tr>\n",
       "      <th>min</th>\n",
       "      <td>19.000000</td>\n",
       "      <td>-8019.000000</td>\n",
       "      <td>1.000000</td>\n",
       "      <td>0.000000</td>\n",
       "      <td>1.000000</td>\n",
       "    </tr>\n",
       "    <tr>\n",
       "      <th>25%</th>\n",
       "      <td>33.000000</td>\n",
       "      <td>54.000000</td>\n",
       "      <td>8.000000</td>\n",
       "      <td>100.000000</td>\n",
       "      <td>1.000000</td>\n",
       "    </tr>\n",
       "    <tr>\n",
       "      <th>50%</th>\n",
       "      <td>39.000000</td>\n",
       "      <td>407.000000</td>\n",
       "      <td>17.000000</td>\n",
       "      <td>175.000000</td>\n",
       "      <td>2.000000</td>\n",
       "    </tr>\n",
       "    <tr>\n",
       "      <th>75%</th>\n",
       "      <td>48.000000</td>\n",
       "      <td>1319.000000</td>\n",
       "      <td>21.000000</td>\n",
       "      <td>313.000000</td>\n",
       "      <td>3.000000</td>\n",
       "    </tr>\n",
       "    <tr>\n",
       "      <th>max</th>\n",
       "      <td>95.000000</td>\n",
       "      <td>102127.000000</td>\n",
       "      <td>31.000000</td>\n",
       "      <td>4918.000000</td>\n",
       "      <td>63.000000</td>\n",
       "    </tr>\n",
       "  </tbody>\n",
       "</table>\n",
       "</div>"
      ],
      "text/plain": [
       "                age        balance           day      duration      campaign\n",
       "count  40000.000000   40000.000000  40000.000000  40000.000000  40000.000000\n",
       "mean      40.544600    1274.277550     16.017225    254.824300      2.882175\n",
       "std        9.641776    2903.769716      8.278127    259.366498      3.239051\n",
       "min       19.000000   -8019.000000      1.000000      0.000000      1.000000\n",
       "25%       33.000000      54.000000      8.000000    100.000000      1.000000\n",
       "50%       39.000000     407.000000     17.000000    175.000000      2.000000\n",
       "75%       48.000000    1319.000000     21.000000    313.000000      3.000000\n",
       "max       95.000000  102127.000000     31.000000   4918.000000     63.000000"
      ]
     },
     "execution_count": 25,
     "metadata": {},
     "output_type": "execute_result"
    }
   ],
   "source": [
    "data_df.describe()"
   ]
  },
  {
   "cell_type": "code",
   "execution_count": 26,
   "id": "95ac38dc",
   "metadata": {},
   "outputs": [],
   "source": [
    "def corr_matrix(df_X):\n",
    "    df_corrs = df_X.corr()\n",
    "    upper = df_corrs.where(np.triu(np.ones(df_corrs.shape),k=1).astype(np.bool))\n",
    "\n",
    "    sns.set(font_scale=15)\n",
    "    sns.set(rc = {'figure.figsize':(15,8)})\n",
    "    sns.heatmap(upper,cmap='RdBu',center=0,annot=True);#cmap='Blues' center=0 vmin=-1,vmax=1 cmap='RdBu'"
   ]
  },
  {
   "cell_type": "code",
   "execution_count": 27,
   "id": "2a0be841",
   "metadata": {},
   "outputs": [
    {
     "name": "stderr",
     "output_type": "stream",
     "text": [
      "C:\\Users\\dgarb\\AppData\\Local\\Temp/ipykernel_18148/822198050.py:3: DeprecationWarning: `np.bool` is a deprecated alias for the builtin `bool`. To silence this warning, use `bool` by itself. Doing this will not modify any behavior and is safe. If you specifically wanted the numpy scalar type, use `np.bool_` here.\n",
      "Deprecated in NumPy 1.20; for more details and guidance: https://numpy.org/devdocs/release/1.20.0-notes.html#deprecations\n",
      "  upper = df_corrs.where(np.triu(np.ones(df_corrs.shape),k=1).astype(np.bool))\n"
     ]
    },
    {
     "data": {
      "image/png": "[encoded data removed]",
      "text/plain": [
       "<Figure size 1080x576 with 2 Axes>"
      ]
     },
     "metadata": {},
     "output_type": "display_data"
    }
   ],
   "source": [
    "corr_matrix(data_df[['age', 'balance', 'day', 'duration', 'campaign']])"
   ]
  },
  {
   "cell_type": "code",
   "execution_count": 28,
   "id": "ea1d640d",
   "metadata": {},
   "outputs": [],
   "source": [
    "def miss_cols(df):\n",
    "    missing = np.sum(df.isnull(),axis=0)\n",
    "    \n",
    "    miss_ind = np.sum(df.isnull(),axis=0) > 0\n",
    "    \n",
    "    vals = pd.Series(filter(lambda x: x != 0,missing))\n",
    "     \n",
    "    cols_miss = df.columns[miss_ind]\n",
    "\n",
    "    L=list(zip(cols_miss,vals, round(vals/df.shape[0],4)))\n",
    "    \n",
    "    return sorted(L,reverse=True,key=lambda x: x[2])  "
   ]
  },
  {
   "cell_type": "code",
   "execution_count": 29,
   "id": "e13337d5",
   "metadata": {},
   "outputs": [],
   "source": [
    "def categ_mean(\n",
    "    df_name = None,\n",
    "target_mean = None,\n",
    "categ_feature = None,\n",
    "target = None):\n",
    "\n",
    "    df1 = df_name.groupby([categ_feature])[target].mean().reset_index()\n",
    "    df1 = df1.rename(columns={target:'mean_of_target'})\n",
    "\n",
    "    df1['Index'] = round(df1['mean_of_target']/target_mean*100).astype(int)\n",
    "\n",
    "    df2= df_name[[categ_feature,target]]\n",
    "    df2 = df2.groupby([categ_feature]).count().reset_index()\n",
    "    df2 = df2.rename(columns={target:'category_freq'})\n",
    "\n",
    "    df2['pct_total'] = round(df2['category_freq']/df_name.shape[0]*100,2)\n",
    "\n",
    "    df3 = pd.merge(df2,df1)\n",
    "    df3['mean_of_target'] = round(df3['mean_of_target']*100,2)\n",
    "    \n",
    "    print(df3)\n",
    "    print(' ')\n",
    "\n",
    "    return df3"
   ]
  },
  {
   "cell_type": "code",
   "execution_count": 30,
   "id": "9c83c3af",
   "metadata": {},
   "outputs": [],
   "source": [
    "# def proc_freq(df,variable_):  #Note variable_ must be given in quotes example: variable_ = 'xyz'\n",
    "#     datax = df[variable_].value_counts().sort_index()\n",
    "    \n",
    "#     datay = pd.DataFrame({\n",
    "#         variable_: datax.index,\n",
    "#         'Frequency': datax.values,\n",
    "#         'Percent': ((datax.values/datax.values.sum())*100).round(2),\n",
    "#         'Cumulative_Frequency': datax.values.cumsum(),\n",
    "#         'Cumulative_Percent': ((datax.values.cumsum()/datax.values.sum())*100).round(2)   })\n",
    "    \n",
    "#     #datay.set_index(variable_)\n",
    "#     #return(datay.set_index(variable_))\n",
    "#     return(datay)"
   ]
  },
  {
   "cell_type": "code",
   "execution_count": 31,
   "id": "cc349dc2",
   "metadata": {},
   "outputs": [],
   "source": [
    "def proc_freq2(df,variable_):  #Note variable_ must be given in quotes example: variable_ = 'xyz'\n",
    "    datax = df[variable_].value_counts().sort_index()\n",
    "    \n",
    "    datay = pd.DataFrame({\n",
    "        variable_: datax.index,\n",
    "        'Frequency': datax.values,\n",
    "        'Percent': ((datax.values/datax.values.sum())*100).round(2),\n",
    "        # 'Cumulative_Frequency': datax.values.cumsum(),\n",
    "        'Cumulative_Percent': ((datax.values.cumsum()/datax.values.sum())*100).round(2)   })\n",
    "    \n",
    "    #datay.set_index(variable_)\n",
    "    #return(datay.set_index(variable_))\n",
    "    return(datay)"
   ]
  },
  {
   "cell_type": "code",
   "execution_count": 15,
   "id": "a20435dc",
   "metadata": {},
   "outputs": [
    {
     "data": {
      "text/plain": [
       "[]"
      ]
     },
     "execution_count": 15,
     "metadata": {},
     "output_type": "execute_result"
    }
   ],
   "source": [
    "miss_cols(data_df)"
   ]
  },
  {
   "cell_type": "code",
   "execution_count": 16,
   "id": "241e5a9a",
   "metadata": {},
   "outputs": [
    {
     "name": "stdout",
     "output_type": "stream",
     "text": [
      "job\n",
      " \n",
      "              job  Frequency  Percent  Cumulative_Percent\n",
      "0           admin       4483    11.21               11.21\n",
      "1     blue-collar       9383    23.46               34.66\n",
      "2    entrepreneur       1405     3.51               38.18\n",
      "3       housemaid       1087     2.72               40.89\n",
      "4      management       8166    20.42               61.31\n",
      "5         retired       1437     3.59               64.90\n",
      "6   self-employed       1414     3.54               68.44\n",
      "7        services       3910     9.78               78.21\n",
      "8         student        524     1.31               79.52\n",
      "9      technician       6852    17.13               96.65\n",
      "10     unemployed       1104     2.76               99.41\n",
      "11        unknown        235     0.59              100.00\n",
      " \n",
      "marital\n",
      " \n",
      "    marital  Frequency  Percent  Cumulative_Percent\n",
      "0  divorced       4725    11.81               11.81\n",
      "1   married      24386    60.96               72.78\n",
      "2    single      10889    27.22              100.00\n",
      " \n",
      "education\n",
      " \n",
      "   education  Frequency  Percent  Cumulative_Percent\n",
      "0    primary       6270    15.68               15.68\n",
      "1  secondary      20993    52.48               68.16\n",
      "2   tertiary      11206    28.02               96.17\n",
      "3    unknown       1531     3.83              100.00\n",
      " \n",
      "default\n",
      " \n",
      "  default  Frequency  Percent  Cumulative_Percent\n",
      "0      no      39191    97.98               97.98\n",
      "1     yes        809     2.02              100.00\n",
      " \n",
      "housing\n",
      " \n",
      "  housing  Frequency  Percent  Cumulative_Percent\n",
      "0      no      15969    39.92               39.92\n",
      "1     yes      24031    60.08              100.00\n",
      " \n",
      "loan\n",
      " \n",
      "  loan  Frequency  Percent  Cumulative_Percent\n",
      "0   no      33070    82.68               82.68\n",
      "1  yes       6930    17.32              100.00\n",
      " \n",
      "contact\n",
      " \n",
      "     contact  Frequency  Percent  Cumulative_Percent\n",
      "0   cellular      24914    62.28               62.28\n",
      "1  telephone       2321     5.80               68.09\n",
      "2    unknown      12765    31.91              100.00\n",
      " \n",
      "month\n",
      " \n",
      "   month  Frequency  Percent  Cumulative_Percent\n",
      "0    apr       2718     6.80                6.80\n",
      "1    aug       5215    13.04               19.83\n",
      "2    dec         13     0.03               19.86\n",
      "3    feb       2296     5.74               25.60\n",
      "4    jan       1176     2.94               28.54\n",
      "5    jul       6380    15.95               44.50\n",
      "6    jun       4734    11.84               56.33\n",
      "7    mar        258     0.64               56.97\n",
      "8    may      13532    33.83               90.80\n",
      "9    nov       3598     9.00               99.80\n",
      "10   oct         80     0.20              100.00\n",
      " \n",
      "y\n",
      " \n",
      "     y  Frequency  Percent  Cumulative_Percent\n",
      "0   no      37104    92.76               92.76\n",
      "1  yes       2896     7.24              100.00\n",
      " \n"
     ]
    }
   ],
   "source": [
    "features = [ 'job',  'marital', 'education', 'default', 'housing', 'loan', 'contact',  'month', 'y'] \n",
    "\n",
    "for feat in features:\n",
    "    print(feat)\n",
    "    print(' ')\n",
    "    print( proc_freq2(data_df,feat) )\n",
    "    print(' ')"
   ]
  },
  {
   "cell_type": "code",
   "execution_count": 23,
   "id": "ea5226d9",
   "metadata": {},
   "outputs": [],
   "source": [
    "features = [ 'job',  'marital', 'education', 'default', 'housing', 'loan', 'contact',  'month']\n"
   ]
  },
  {
   "cell_type": "markdown",
   "id": "01cf151b",
   "metadata": {},
   "source": [
    "### identify string fields and create dummies"
   ]
  },
  {
   "cell_type": "code",
   "execution_count": 6,
   "id": "cb65f190",
   "metadata": {},
   "outputs": [],
   "source": [
    "df_obj= data_df.select_dtypes(exclude=['int64','float64','bool'])\n",
    "df_obj.columns\n",
    "df_obj = df_obj.drop(columns=['y'])"
   ]
  },
  {
   "cell_type": "code",
   "execution_count": 9,
   "id": "6b633cd2",
   "metadata": {},
   "outputs": [],
   "source": [
    "list_of_char_features = list(df_obj.columns)"
   ]
  },
  {
   "cell_type": "code",
   "execution_count": 39,
   "id": "7d32859c",
   "metadata": {},
   "outputs": [
    {
     "data": {
      "text/plain": [
       "['job',\n",
       " 'marital',\n",
       " 'education',\n",
       " 'default',\n",
       " 'housing',\n",
       " 'loan',\n",
       " 'contact',\n",
       " 'month']"
      ]
     },
     "execution_count": 39,
     "metadata": {},
     "output_type": "execute_result"
    }
   ],
   "source": [
    "list_of_char_features"
   ]
  },
  {
   "cell_type": "code",
   "execution_count": 12,
   "id": "696399df",
   "metadata": {},
   "outputs": [],
   "source": [
    "df_dummies = pd.get_dummies(df_obj, drop_first=True)"
   ]
  },
  {
   "cell_type": "code",
   "execution_count": 13,
   "id": "1887ae03",
   "metadata": {},
   "outputs": [
    {
     "data": {
      "text/plain": [
       "['job_blue-collar',\n",
       " 'job_entrepreneur',\n",
       " 'job_housemaid',\n",
       " 'job_management',\n",
       " 'job_retired',\n",
       " 'job_self-employed',\n",
       " 'job_services',\n",
       " 'job_student',\n",
       " 'job_technician',\n",
       " 'job_unemployed',\n",
       " 'job_unknown',\n",
       " 'marital_married',\n",
       " 'marital_single',\n",
       " 'education_secondary',\n",
       " 'education_tertiary',\n",
       " 'education_unknown',\n",
       " 'default_yes',\n",
       " 'housing_yes',\n",
       " 'loan_yes',\n",
       " 'contact_telephone',\n",
       " 'contact_unknown',\n",
       " 'month_aug',\n",
       " 'month_dec',\n",
       " 'month_feb',\n",
       " 'month_jan',\n",
       " 'month_jul',\n",
       " 'month_jun',\n",
       " 'month_mar',\n",
       " 'month_may',\n",
       " 'month_nov',\n",
       " 'month_oct']"
      ]
     },
     "execution_count": 13,
     "metadata": {},
     "output_type": "execute_result"
    }
   ],
   "source": [
    "list(df_dummies.columns)"
   ]
  },
  {
   "cell_type": "code",
   "execution_count": 14,
   "id": "2e0dd707",
   "metadata": {},
   "outputs": [
    {
     "data": {
      "text/html": [
       "<div>\n",
       "<style scoped>\n",
       "    .dataframe tbody tr th:only-of-type {\n",
       "        vertical-align: middle;\n",
       "    }\n",
       "\n",
       "    .dataframe tbody tr th {\n",
       "        vertical-align: top;\n",
       "    }\n",
       "\n",
       "    .dataframe thead th {\n",
       "        text-align: right;\n",
       "    }\n",
       "</style>\n",
       "<table border=\"1\" class=\"dataframe\">\n",
       "  <thead>\n",
       "    <tr style=\"text-align: right;\">\n",
       "      <th></th>\n",
       "      <th>job_blue-collar</th>\n",
       "      <th>job_entrepreneur</th>\n",
       "      <th>job_housemaid</th>\n",
       "      <th>job_management</th>\n",
       "      <th>job_retired</th>\n",
       "      <th>job_self-employed</th>\n",
       "      <th>job_services</th>\n",
       "      <th>job_student</th>\n",
       "      <th>job_technician</th>\n",
       "      <th>job_unemployed</th>\n",
       "      <th>...</th>\n",
       "      <th>month_aug</th>\n",
       "      <th>month_dec</th>\n",
       "      <th>month_feb</th>\n",
       "      <th>month_jan</th>\n",
       "      <th>month_jul</th>\n",
       "      <th>month_jun</th>\n",
       "      <th>month_mar</th>\n",
       "      <th>month_may</th>\n",
       "      <th>month_nov</th>\n",
       "      <th>month_oct</th>\n",
       "    </tr>\n",
       "  </thead>\n",
       "  <tbody>\n",
       "    <tr>\n",
       "      <th>0</th>\n",
       "      <td>0</td>\n",
       "      <td>0</td>\n",
       "      <td>0</td>\n",
       "      <td>1</td>\n",
       "      <td>0</td>\n",
       "      <td>0</td>\n",
       "      <td>0</td>\n",
       "      <td>0</td>\n",
       "      <td>0</td>\n",
       "      <td>0</td>\n",
       "      <td>...</td>\n",
       "      <td>0</td>\n",
       "      <td>0</td>\n",
       "      <td>0</td>\n",
       "      <td>0</td>\n",
       "      <td>0</td>\n",
       "      <td>0</td>\n",
       "      <td>0</td>\n",
       "      <td>1</td>\n",
       "      <td>0</td>\n",
       "      <td>0</td>\n",
       "    </tr>\n",
       "    <tr>\n",
       "      <th>1</th>\n",
       "      <td>0</td>\n",
       "      <td>0</td>\n",
       "      <td>0</td>\n",
       "      <td>0</td>\n",
       "      <td>0</td>\n",
       "      <td>0</td>\n",
       "      <td>0</td>\n",
       "      <td>0</td>\n",
       "      <td>1</td>\n",
       "      <td>0</td>\n",
       "      <td>...</td>\n",
       "      <td>0</td>\n",
       "      <td>0</td>\n",
       "      <td>0</td>\n",
       "      <td>0</td>\n",
       "      <td>0</td>\n",
       "      <td>0</td>\n",
       "      <td>0</td>\n",
       "      <td>1</td>\n",
       "      <td>0</td>\n",
       "      <td>0</td>\n",
       "    </tr>\n",
       "    <tr>\n",
       "      <th>2</th>\n",
       "      <td>0</td>\n",
       "      <td>1</td>\n",
       "      <td>0</td>\n",
       "      <td>0</td>\n",
       "      <td>0</td>\n",
       "      <td>0</td>\n",
       "      <td>0</td>\n",
       "      <td>0</td>\n",
       "      <td>0</td>\n",
       "      <td>0</td>\n",
       "      <td>...</td>\n",
       "      <td>0</td>\n",
       "      <td>0</td>\n",
       "      <td>0</td>\n",
       "      <td>0</td>\n",
       "      <td>0</td>\n",
       "      <td>0</td>\n",
       "      <td>0</td>\n",
       "      <td>1</td>\n",
       "      <td>0</td>\n",
       "      <td>0</td>\n",
       "    </tr>\n",
       "    <tr>\n",
       "      <th>3</th>\n",
       "      <td>1</td>\n",
       "      <td>0</td>\n",
       "      <td>0</td>\n",
       "      <td>0</td>\n",
       "      <td>0</td>\n",
       "      <td>0</td>\n",
       "      <td>0</td>\n",
       "      <td>0</td>\n",
       "      <td>0</td>\n",
       "      <td>0</td>\n",
       "      <td>...</td>\n",
       "      <td>0</td>\n",
       "      <td>0</td>\n",
       "      <td>0</td>\n",
       "      <td>0</td>\n",
       "      <td>0</td>\n",
       "      <td>0</td>\n",
       "      <td>0</td>\n",
       "      <td>1</td>\n",
       "      <td>0</td>\n",
       "      <td>0</td>\n",
       "    </tr>\n",
       "    <tr>\n",
       "      <th>4</th>\n",
       "      <td>0</td>\n",
       "      <td>0</td>\n",
       "      <td>0</td>\n",
       "      <td>0</td>\n",
       "      <td>0</td>\n",
       "      <td>0</td>\n",
       "      <td>0</td>\n",
       "      <td>0</td>\n",
       "      <td>0</td>\n",
       "      <td>0</td>\n",
       "      <td>...</td>\n",
       "      <td>0</td>\n",
       "      <td>0</td>\n",
       "      <td>0</td>\n",
       "      <td>0</td>\n",
       "      <td>0</td>\n",
       "      <td>0</td>\n",
       "      <td>0</td>\n",
       "      <td>1</td>\n",
       "      <td>0</td>\n",
       "      <td>0</td>\n",
       "    </tr>\n",
       "  </tbody>\n",
       "</table>\n",
       "<p>5 rows × 31 columns</p>\n",
       "</div>"
      ],
      "text/plain": [
       "   job_blue-collar  job_entrepreneur  job_housemaid  job_management  \\\n",
       "0                0                 0              0               1   \n",
       "1                0                 0              0               0   \n",
       "2                0                 1              0               0   \n",
       "3                1                 0              0               0   \n",
       "4                0                 0              0               0   \n",
       "\n",
       "   job_retired  job_self-employed  job_services  job_student  job_technician  \\\n",
       "0            0                  0             0            0               0   \n",
       "1            0                  0             0            0               1   \n",
       "2            0                  0             0            0               0   \n",
       "3            0                  0             0            0               0   \n",
       "4            0                  0             0            0               0   \n",
       "\n",
       "   job_unemployed  ...  month_aug  month_dec  month_feb  month_jan  month_jul  \\\n",
       "0               0  ...          0          0          0          0          0   \n",
       "1               0  ...          0          0          0          0          0   \n",
       "2               0  ...          0          0          0          0          0   \n",
       "3               0  ...          0          0          0          0          0   \n",
       "4               0  ...          0          0          0          0          0   \n",
       "\n",
       "   month_jun  month_mar  month_may  month_nov  month_oct  \n",
       "0          0          0          1          0          0  \n",
       "1          0          0          1          0          0  \n",
       "2          0          0          1          0          0  \n",
       "3          0          0          1          0          0  \n",
       "4          0          0          1          0          0  \n",
       "\n",
       "[5 rows x 31 columns]"
      ]
     },
     "execution_count": 14,
     "metadata": {},
     "output_type": "execute_result"
    }
   ],
   "source": [
    "df_dummies.head()"
   ]
  },
  {
   "cell_type": "code",
   "execution_count": 15,
   "id": "7d6db7c6",
   "metadata": {},
   "outputs": [
    {
     "data": {
      "text/html": [
       "<div>\n",
       "<style scoped>\n",
       "    .dataframe tbody tr th:only-of-type {\n",
       "        vertical-align: middle;\n",
       "    }\n",
       "\n",
       "    .dataframe tbody tr th {\n",
       "        vertical-align: top;\n",
       "    }\n",
       "\n",
       "    .dataframe thead th {\n",
       "        text-align: right;\n",
       "    }\n",
       "</style>\n",
       "<table border=\"1\" class=\"dataframe\">\n",
       "  <thead>\n",
       "    <tr style=\"text-align: right;\">\n",
       "      <th></th>\n",
       "      <th>age</th>\n",
       "      <th>balance</th>\n",
       "      <th>day</th>\n",
       "      <th>duration</th>\n",
       "      <th>campaign</th>\n",
       "    </tr>\n",
       "  </thead>\n",
       "  <tbody>\n",
       "    <tr>\n",
       "      <th>0</th>\n",
       "      <td>58</td>\n",
       "      <td>2143</td>\n",
       "      <td>5</td>\n",
       "      <td>261</td>\n",
       "      <td>1</td>\n",
       "    </tr>\n",
       "    <tr>\n",
       "      <th>1</th>\n",
       "      <td>44</td>\n",
       "      <td>29</td>\n",
       "      <td>5</td>\n",
       "      <td>151</td>\n",
       "      <td>1</td>\n",
       "    </tr>\n",
       "    <tr>\n",
       "      <th>2</th>\n",
       "      <td>33</td>\n",
       "      <td>2</td>\n",
       "      <td>5</td>\n",
       "      <td>76</td>\n",
       "      <td>1</td>\n",
       "    </tr>\n",
       "    <tr>\n",
       "      <th>3</th>\n",
       "      <td>47</td>\n",
       "      <td>1506</td>\n",
       "      <td>5</td>\n",
       "      <td>92</td>\n",
       "      <td>1</td>\n",
       "    </tr>\n",
       "    <tr>\n",
       "      <th>4</th>\n",
       "      <td>33</td>\n",
       "      <td>1</td>\n",
       "      <td>5</td>\n",
       "      <td>198</td>\n",
       "      <td>1</td>\n",
       "    </tr>\n",
       "  </tbody>\n",
       "</table>\n",
       "</div>"
      ],
      "text/plain": [
       "   age  balance  day  duration  campaign\n",
       "0   58     2143    5       261         1\n",
       "1   44       29    5       151         1\n",
       "2   33        2    5        76         1\n",
       "3   47     1506    5        92         1\n",
       "4   33        1    5       198         1"
      ]
     },
     "execution_count": 15,
     "metadata": {},
     "output_type": "execute_result"
    }
   ],
   "source": [
    "data_df[['age', 'balance', 'day', 'duration', 'campaign']].head()"
   ]
  },
  {
   "cell_type": "code",
   "execution_count": null,
   "id": "1d2bf07a",
   "metadata": {},
   "outputs": [],
   "source": []
  },
  {
   "cell_type": "code",
   "execution_count": 16,
   "id": "7689dff6",
   "metadata": {},
   "outputs": [
    {
     "data": {
      "image/png": "[encoded data removed]",
      "text/plain": [
       "<Figure size 432x288 with 1 Axes>"
      ]
     },
     "metadata": {
      "needs_background": "light"
     },
     "output_type": "display_data"
    }
   ],
   "source": [
    "data_df['age'].plot(kind = 'box');"
   ]
  },
  {
   "cell_type": "code",
   "execution_count": 17,
   "id": "3332c315",
   "metadata": {},
   "outputs": [
    {
     "data": {
      "image/png": "[encoded data removed]",
      "text/plain": [
       "<Figure size 432x288 with 1 Axes>"
      ]
     },
     "metadata": {
      "needs_background": "light"
     },
     "output_type": "display_data"
    }
   ],
   "source": [
    "data_df['balance'].plot(kind = 'box');"
   ]
  },
  {
   "cell_type": "code",
   "execution_count": 18,
   "id": "f6a77b18",
   "metadata": {},
   "outputs": [
    {
     "data": {
      "image/png": "[encoded data removed]",
      "text/plain": [
       "<Figure size 432x288 with 1 Axes>"
      ]
     },
     "metadata": {
      "needs_background": "light"
     },
     "output_type": "display_data"
    }
   ],
   "source": [
    "data_df['day'].plot(kind = 'box');"
   ]
  },
  {
   "cell_type": "code",
   "execution_count": 19,
   "id": "3e6e9c62",
   "metadata": {},
   "outputs": [
    {
     "data": {
      "image/png": "[encoded data removed]",
      "text/plain": [
       "<Figure size 432x288 with 1 Axes>"
      ]
     },
     "metadata": {
      "needs_background": "light"
     },
     "output_type": "display_data"
    }
   ],
   "source": [
    "data_df['duration'].plot(kind = 'box');"
   ]
  },
  {
   "cell_type": "code",
   "execution_count": 20,
   "id": "65faa7ea",
   "metadata": {},
   "outputs": [
    {
     "data": {
      "image/png": "[encoded data removed]",
      "text/plain": [
       "<Figure size 432x288 with 1 Axes>"
      ]
     },
     "metadata": {
      "needs_background": "light"
     },
     "output_type": "display_data"
    }
   ],
   "source": [
    "\n",
    "data_df['campaign'].plot(kind = 'box');"
   ]
  },
  {
   "cell_type": "code",
   "execution_count": 21,
   "id": "07426670",
   "metadata": {},
   "outputs": [
    {
     "name": "stdout",
     "output_type": "stream",
     "text": [
      "<class 'pandas.core.frame.DataFrame'>\n",
      "RangeIndex: 40000 entries, 0 to 39999\n",
      "Data columns (total 14 columns):\n",
      " #   Column     Non-Null Count  Dtype \n",
      "---  ------     --------------  ----- \n",
      " 0   age        40000 non-null  int64 \n",
      " 1   job        40000 non-null  object\n",
      " 2   marital    40000 non-null  object\n",
      " 3   education  40000 non-null  object\n",
      " 4   default    40000 non-null  object\n",
      " 5   balance    40000 non-null  int64 \n",
      " 6   housing    40000 non-null  object\n",
      " 7   loan       40000 non-null  object\n",
      " 8   contact    40000 non-null  object\n",
      " 9   day        40000 non-null  int64 \n",
      " 10  month      40000 non-null  object\n",
      " 11  duration   40000 non-null  int64 \n",
      " 12  campaign   40000 non-null  int64 \n",
      " 13  y          40000 non-null  object\n",
      "dtypes: int64(5), object(9)\n",
      "memory usage: 4.3+ MB\n"
     ]
    }
   ],
   "source": [
    "data_df.info()"
   ]
  },
  {
   "cell_type": "markdown",
   "id": "ba517982",
   "metadata": {},
   "source": [
    "### create new df drop y and y_label and add dummies "
   ]
  },
  {
   "cell_type": "code",
   "execution_count": 32,
   "id": "76bde205",
   "metadata": {},
   "outputs": [
    {
     "name": "stdout",
     "output_type": "stream",
     "text": [
      "<class 'pandas.core.frame.DataFrame'>\n",
      "RangeIndex: 40000 entries, 0 to 39999\n",
      "Data columns (total 44 columns):\n",
      " #   Column               Non-Null Count  Dtype \n",
      "---  ------               --------------  ----- \n",
      " 0   age                  40000 non-null  int64 \n",
      " 1   job                  40000 non-null  object\n",
      " 2   marital              40000 non-null  object\n",
      " 3   education            40000 non-null  object\n",
      " 4   default              40000 non-null  object\n",
      " 5   balance              40000 non-null  int64 \n",
      " 6   housing              40000 non-null  object\n",
      " 7   loan                 40000 non-null  object\n",
      " 8   contact              40000 non-null  object\n",
      " 9   day                  40000 non-null  int64 \n",
      " 10  month                40000 non-null  object\n",
      " 11  duration             40000 non-null  int64 \n",
      " 12  campaign             40000 non-null  int64 \n",
      " 13  job_blue-collar      40000 non-null  uint8 \n",
      " 14  job_entrepreneur     40000 non-null  uint8 \n",
      " 15  job_housemaid        40000 non-null  uint8 \n",
      " 16  job_management       40000 non-null  uint8 \n",
      " 17  job_retired          40000 non-null  uint8 \n",
      " 18  job_self-employed    40000 non-null  uint8 \n",
      " 19  job_services         40000 non-null  uint8 \n",
      " 20  job_student          40000 non-null  uint8 \n",
      " 21  job_technician       40000 non-null  uint8 \n",
      " 22  job_unemployed       40000 non-null  uint8 \n",
      " 23  job_unknown          40000 non-null  uint8 \n",
      " 24  marital_married      40000 non-null  uint8 \n",
      " 25  marital_single       40000 non-null  uint8 \n",
      " 26  education_secondary  40000 non-null  uint8 \n",
      " 27  education_tertiary   40000 non-null  uint8 \n",
      " 28  education_unknown    40000 non-null  uint8 \n",
      " 29  default_yes          40000 non-null  uint8 \n",
      " 30  housing_yes          40000 non-null  uint8 \n",
      " 31  loan_yes             40000 non-null  uint8 \n",
      " 32  contact_telephone    40000 non-null  uint8 \n",
      " 33  contact_unknown      40000 non-null  uint8 \n",
      " 34  month_aug            40000 non-null  uint8 \n",
      " 35  month_dec            40000 non-null  uint8 \n",
      " 36  month_feb            40000 non-null  uint8 \n",
      " 37  month_jan            40000 non-null  uint8 \n",
      " 38  month_jul            40000 non-null  uint8 \n",
      " 39  month_jun            40000 non-null  uint8 \n",
      " 40  month_mar            40000 non-null  uint8 \n",
      " 41  month_may            40000 non-null  uint8 \n",
      " 42  month_nov            40000 non-null  uint8 \n",
      " 43  month_oct            40000 non-null  uint8 \n",
      "dtypes: int64(5), object(8), uint8(31)\n",
      "memory usage: 5.1+ MB\n"
     ]
    }
   ],
   "source": [
    "\n",
    "combined_df = pd.concat([data_df.drop(columns=['y','y_label']), df_dummies], axis=1)  \n",
    "combined_df.info()"
   ]
  },
  {
   "cell_type": "code",
   "execution_count": 33,
   "id": "8902c7eb",
   "metadata": {},
   "outputs": [],
   "source": [
    "y_label_series = data_df['y_label'] "
   ]
  },
  {
   "cell_type": "markdown",
   "id": "0feb2ef5",
   "metadata": {},
   "source": [
    "### train test split"
   ]
  },
  {
   "cell_type": "code",
   "execution_count": 34,
   "id": "083cbd58",
   "metadata": {},
   "outputs": [],
   "source": [
    "from sklearn.model_selection import train_test_split"
   ]
  },
  {
   "cell_type": "code",
   "execution_count": 35,
   "id": "cc83b0ba",
   "metadata": {},
   "outputs": [],
   "source": [
    "X_train_dep, X_test_dep, y_train_dep, y_test_dep = train_test_split(\n",
    "    combined_df, y_label_series, test_size=0.3, stratify=y_label_series, random_state=10)"
   ]
  },
  {
   "cell_type": "code",
   "execution_count": 36,
   "id": "ff59b57d",
   "metadata": {},
   "outputs": [],
   "source": [
    "y_train_dep_df  = y_train_dep.to_frame()"
   ]
  },
  {
   "cell_type": "code",
   "execution_count": 37,
   "id": "c902eb67",
   "metadata": {},
   "outputs": [],
   "source": [
    "y_test_dep_df =  y_test_dep.to_frame()"
   ]
  },
  {
   "cell_type": "markdown",
   "id": "f0de0680",
   "metadata": {},
   "source": [
    "### export to csv"
   ]
  },
  {
   "cell_type": "code",
   "execution_count": 55,
   "id": "7ab8da44",
   "metadata": {},
   "outputs": [],
   "source": [
    "# X_train_dep.to_csv(r'C:\\Users\\dgarb\\OneDrive\\Documents\\APZIVA\\Project 2\\data\\X_train_dep.csv')"
   ]
  },
  {
   "cell_type": "code",
   "execution_count": 56,
   "id": "7c1326fe",
   "metadata": {},
   "outputs": [],
   "source": [
    "# X_test_dep.to_csv(r'C:\\Users\\dgarb\\OneDrive\\Documents\\APZIVA\\Project 2\\data\\X_test_dep.csv')"
   ]
  },
  {
   "cell_type": "code",
   "execution_count": 65,
   "id": "e06624f4",
   "metadata": {},
   "outputs": [],
   "source": [
    "# y_train_dep_df.to_csv(r'C:\\Users\\dgarb\\OneDrive\\Documents\\APZIVA\\Project 2\\data\\y_train_dep_df.csv')"
   ]
  },
  {
   "cell_type": "code",
   "execution_count": 66,
   "id": "33ea82f3",
   "metadata": {},
   "outputs": [],
   "source": [
    "# y_test_dep_df.to_csv(r'C:\\Users\\dgarb\\OneDrive\\Documents\\APZIVA\\Project 2\\data\\y_test_dep_df.csv')"
   ]
  },
  {
   "cell_type": "code",
   "execution_count": null,
   "id": "cccbe2c3",
   "metadata": {},
   "outputs": [],
   "source": []
  },
  {
   "cell_type": "code",
   "execution_count": 38,
   "id": "c9e84544",
   "metadata": {},
   "outputs": [
    {
     "name": "stdout",
     "output_type": "stream",
     "text": [
      "              job  category_freq  pct_total  mean_of_target  Index\n",
      "0           admin           4483      11.21            7.83    108\n",
      "1     blue-collar           9383      23.46            5.70     79\n",
      "2    entrepreneur           1405       3.51            6.26     87\n",
      "3       housemaid           1087       2.72            4.88     67\n",
      "4      management           8166      20.42            8.28    114\n",
      "5         retired           1437       3.59           10.51    145\n",
      "6   self-employed           1414       3.54            7.92    109\n",
      "7        services           3910       9.78            6.09     84\n",
      "8         student            524       1.31           15.65    216\n",
      "9      technician           6852      17.13            7.25    100\n",
      "10     unemployed           1104       2.76            8.70    120\n",
      "11        unknown            235       0.59            7.23    100\n",
      " \n",
      "    marital  category_freq  pct_total  mean_of_target  Index\n",
      "0  divorced           4725      11.81            8.28    114\n",
      "1   married          24386      60.96            6.06     84\n",
      "2    single          10889      27.22            9.43    130\n",
      " \n",
      "   education  category_freq  pct_total  mean_of_target  Index\n",
      "0    primary           6270      15.68            5.63     78\n",
      "1  secondary          20993      52.48            6.75     93\n",
      "2   tertiary          11206      28.02            9.18    127\n",
      "3    unknown           1531       3.83            6.27     87\n",
      " \n",
      "  default  category_freq  pct_total  mean_of_target  Index\n",
      "0      no          39191      97.98            7.26    100\n",
      "1     yes            809       2.02            6.06     84\n",
      " \n",
      "  housing  category_freq  pct_total  mean_of_target  Index\n",
      "0      no          15969      39.92            8.97    124\n",
      "1     yes          24031      60.08            6.09     84\n",
      " \n",
      "  loan  category_freq  pct_total  mean_of_target  Index\n",
      "0   no          33070      82.68            7.61    105\n",
      "1  yes           6930      17.32            5.48     76\n",
      " \n",
      "     contact  category_freq  pct_total  mean_of_target  Index\n",
      "0   cellular          24914      62.28            8.96    124\n",
      "1  telephone           2321       5.80            7.15     99\n",
      "2    unknown          12765      31.91            3.89     54\n",
      " \n",
      "   month  category_freq  pct_total  mean_of_target  Index\n",
      "0    apr           2718       6.80           16.59    229\n",
      "1    aug           5215      13.04            5.52     76\n",
      "2    dec             13       0.03            7.69    106\n",
      "3    feb           2296       5.74           11.11    153\n",
      "4    jan           1176       2.94            3.23     45\n",
      "5    jul           6380      15.95            6.02     83\n",
      "6    jun           4734      11.84            6.21     86\n",
      "7    mar            258       0.64           48.45    669\n",
      "8    may          13532      33.83            5.85     81\n",
      "9    nov           3598       9.00            6.11     84\n",
      "10   oct             80       0.20           61.25    846\n",
      " \n"
     ]
    }
   ],
   "source": [
    "for feat in list(df_obj.columns):\n",
    "    categ_mean(\n",
    "        df_name = data_df,\n",
    "    target_mean = data_df.y_label.mean() ,\n",
    "    categ_feature =feat,\n",
    "    target =  'y_label')"
   ]
  },
  {
   "cell_type": "markdown",
   "id": "35a0c0a9",
   "metadata": {},
   "source": [
    "# methods to try"
   ]
  },
  {
   "cell_type": "raw",
   "id": "bd34bee5",
   "metadata": {},
   "source": [
    "\n",
    "SMOTE + Logistic\n",
    "\n",
    "Or XGB with weight balance parameter tuning\n",
    "\n",
    "or LGBM or CatBoost"
   ]
  },
  {
   "cell_type": "code",
   "execution_count": null,
   "id": "be1c041d",
   "metadata": {},
   "outputs": [],
   "source": []
  },
  {
   "cell_type": "code",
   "execution_count": null,
   "id": "f483859c",
   "metadata": {},
   "outputs": [],
   "source": []
  },
  {
   "cell_type": "code",
   "execution_count": null,
   "id": "06c47296",
   "metadata": {},
   "outputs": [],
   "source": []
  },
  {
   "cell_type": "code",
   "execution_count": null,
   "id": "af05b250",
   "metadata": {},
   "outputs": [],
   "source": []
  }
 ],
 "metadata": {
  "kernelspec": {
   "display_name": "Python 3 (ipykernel)",
   "language": "python",
   "name": "python3"
  },
  "language_info": {
   "codemirror_mode": {
    "name": "ipython",
    "version": 3
   },
   "file_extension": ".py",
   "mimetype": "text/x-python",
   "name": "python",
   "nbconvert_exporter": "python",
   "pygments_lexer": "ipython3",
   "version": "3.9.7"
  }
 },
 "nbformat": 4,
 "nbformat_minor": 5
}
